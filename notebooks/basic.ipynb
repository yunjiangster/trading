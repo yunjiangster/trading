{
  "nbformat": 4,
  "nbformat_minor": 0,
  "metadata": {
    "colab": {
      "provenance": [],
      "collapsed_sections": [],
      "authorship_tag": "ABX9TyNpvfhMylXMqsFnFO7l/HXu",
      "include_colab_link": true
    },
    "kernelspec": {
      "name": "python3",
      "display_name": "Python 3"
    },
    "language_info": {
      "name": "python"
    }
  },
  "cells": [
    {
      "cell_type": "markdown",
      "metadata": {
        "id": "view-in-github",
        "colab_type": "text"
      },
      "source": [
        "<a href=\"https://colab.research.google.com/github/yunjiangster/trading/blob/main/notebooks/basic.ipynb\" target=\"_parent\"><img src=\"https://colab.research.google.com/assets/colab-badge.svg\" alt=\"Open In Colab\"/></a>"
      ]
    },
    {
      "cell_type": "code",
      "execution_count": null,
      "metadata": {
        "id": "4Q6cvwMSW-iY"
      },
      "outputs": [],
      "source": [
        "import numpy as np\n",
        "import pandas as pd\n",
        "import os, math, sys, re\n",
        "import requests"
      ]
    },
    {
      "cell_type": "code",
      "source": [
        "os.getcwd()"
      ],
      "metadata": {
        "id": "PMDX_987XfJk"
      },
      "execution_count": null,
      "outputs": []
    },
    {
      "cell_type": "code",
      "source": [
        "header = requests.get('https://raw.githubusercontent.com/yunjiangster/trading/main/data/eth/header.csv').content.decode().split('\\n')[0].split(',')\n",
        "\n",
        "df = pd.read_csv('https://raw.githubusercontent.com/yunjiangster/trading/main/data/eth/ETHUSDT-201708xx-20220921.csv', header=None)\n",
        "df.columns = header"
      ],
      "metadata": {
        "id": "oXUYoA2PYT-J"
      },
      "execution_count": null,
      "outputs": []
    },
    {
      "cell_type": "code",
      "source": [
        "df[\"Time\"] = pd.to_datetime(df['Open time'], unit='ms')\n",
        "df.plot(x=\"Time\", y=[\"Open\", \"Volume\"])\n",
        "df.Time"
      ],
      "metadata": {
        "id": "ahJ6RQJea-H2"
      },
      "execution_count": null,
      "outputs": []
    },
    {
      "cell_type": "code",
      "source": [
        "from typing import Callable, Dict\n",
        "\n",
        "# TODO: expand later to output predictions.\n",
        "MetricsType = Dict[str, float]\n",
        "def cross_validate(\n",
        "    df, \n",
        "    train_algo: Callable[[pd.DataFrame], Callable[[pd.DataFrame], MetricsType]], \n",
        "    fold=2, forward_only=False):\n",
        "  n = len(df.index)\n",
        "  m = n // fold\n",
        "  dfs = [df.iloc[i * m: (i + 1) * m] for i in range(fold)]\n",
        "  test_metrics = []\n",
        "  for j in range(fold):\n",
        "    if forward_only:\n",
        "      if j == 0:\n",
        "        continue\n",
        "      train_df = pd.concat(dfs[:j], axis=0, ignore_index=True)\n",
        "    else:\n",
        "      train_df = pd.concat([dfi for i, dfi in enumerate(dfs) if i != j], axis=0, \n",
        "                           ignore_index=True)\n",
        "    test_df = dfs[j].reset_index()\n",
        "    model = train_algo(train_df)\n",
        "    test_metrics.append(model(test_df))\n",
        "  \n",
        "  aggregate_metrics = {}\n",
        "  for k in test_metrics[0]:\n",
        "    aggregate_metrics[k] = sum(tm[k] for tm in test_metrics) / len(test_metrics)\n",
        "\n",
        "  return aggregate_metrics"
      ],
      "metadata": {
        "id": "IbOkkKJ2Cbsm"
      },
      "execution_count": null,
      "outputs": []
    },
    {
      "cell_type": "code",
      "source": [
        "from functools import partial\n",
        "def flat_forward(train_df):\n",
        "  def featurize(df):\n",
        "    label = df.Close > df.Open\n",
        "    feats = df.Close.shift(1) < df.Open.shift(1)\n",
        "    return feats, label\n",
        "  # def featurize(df):\n",
        "  #   label = df.Open > df.Open.shift(1)\n",
        "  #   feats = df.Open.shift(2) > df.Open.shift(1)\n",
        "  #   return feats, label\n",
        "  def algo(test_df):\n",
        "    feats, label = featurize(test_df)\n",
        "    return {'accuracy': sum(feats == label) / len(test_df.index)}\n",
        "  return algo\n",
        "\n",
        "cross_validate(df, flat_forward, 2, forward_only=True)"
      ],
      "metadata": {
        "id": "2-A4h5SA0jiZ"
      },
      "execution_count": null,
      "outputs": []
    },
    {
      "cell_type": "code",
      "source": [
        "from sklearn.model_selection import train_test_split\n",
        "import lightgbm\n",
        "\n",
        "def gbdt(train_df, valid_frac=0.2):\n",
        "  n = len(train_df.index)\n",
        "  b = int(n * (1 - valid_frac))\n",
        "  def featurize(df):\n",
        "    label = df.Close.rolling(2).apply(lambda x: x.iloc[1] > x.iloc[0])\n",
        "    # label = ((df.Close - df.Open) > 0).astype(float)\n",
        "    features = {}\n",
        "\n",
        "    for k in ['Close', 'Open', 'High', 'Low', 'Volume']:\n",
        "      features['Prev_%s' % k] = df[k].shift(1)\n",
        "      features['Prev_Delta_%s' % k] = df[k].shift(1) - df[k].shift(2)\n",
        "    feats = pd.DataFrame(features)\n",
        "    return feats, label\n",
        "  feats, label = featurize(train_df)\n",
        "  train_label, valid_label = label.iloc[:b], label.iloc[b:]\n",
        "  train_feats, valid_feats = feats.iloc[:b], feats.iloc[b:]\n",
        "  train_data = lightgbm.Dataset(train_feats, label=train_label)\n",
        "  valid_data = lightgbm.Dataset(valid_feats, label=valid_label)\n",
        "\n",
        "  parameters = {\n",
        "      'application': 'binary',\n",
        "      'objective': 'binary',\n",
        "      'metric': 'auc',\n",
        "      'is_unbalance': 'true',\n",
        "      'boosting': 'gbdt',\n",
        "      'num_leaves': 20,\n",
        "      'max_depth': 2,\n",
        "      'feature_fraction': 0.5,\n",
        "      'bagging_fraction': 0.5,\n",
        "      'bagging_freq': 20,\n",
        "      'learning_rate': 0.5,\n",
        "      'verbose': 0\n",
        "  }\n",
        "  model = lightgbm.train(parameters,\n",
        "                       train_data,\n",
        "                       valid_sets=valid_data,\n",
        "                       num_boost_round=100,\n",
        "                       early_stopping_rounds=2)\n",
        "  \n",
        "  def algo(test_df):\n",
        "    test_feats, test_label = featurize(test_df)\n",
        "    test_preds = model.predict(test_feats)\n",
        "    correct = (test_preds > 0.5) == test_label\n",
        "    return {'accuracy': sum(correct) / len(test_df.index)}\n",
        "\n",
        "  return algo\n",
        "\n",
        "cross_validate(df, gbdt, 2, forward_only=True)"
      ],
      "metadata": {
        "id": "KkbF83FEJ9aJ"
      },
      "execution_count": null,
      "outputs": []
    },
    {
      "cell_type": "code",
      "source": [
        "import sympy\n",
        "\n",
        "sympy.factorint(len(df.index))"
      ],
      "metadata": {
        "id": "waph_EjG1xfm"
      },
      "execution_count": null,
      "outputs": []
    },
    {
      "cell_type": "code",
      "source": [
        "(df.Open - df.Open.shift(-1)).plot()"
      ],
      "metadata": {
        "id": "WT1glaCIm2Yu"
      },
      "execution_count": null,
      "outputs": []
    },
    {
      "cell_type": "code",
      "source": [
        "from datetime import datetime as dt\n",
        "pd.set_option('display.max_rows', 1000)\n",
        "\n",
        "df['Open time'].apply(lambda x: dt.fromtimestamp(x / 1e3).strftime('%Y-%m-%d %H:%M:%S'))"
      ],
      "metadata": {
        "id": "3zNk_k-ubkO2"
      },
      "execution_count": null,
      "outputs": []
    },
    {
      "cell_type": "code",
      "source": [
        "(df.Open - df.Close).plot()"
      ],
      "metadata": {
        "id": "iCOu_x5QjKl7"
      },
      "execution_count": null,
      "outputs": []
    },
    {
      "cell_type": "code",
      "source": [],
      "metadata": {
        "id": "RZOWK6ZIhmJ9"
      },
      "execution_count": null,
      "outputs": []
    }
  ]
}